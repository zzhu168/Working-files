{
  "nbformat": 4,
  "nbformat_minor": 0,
  "metadata": {
    "colab": {
      "name": "Copy of Monte Carlo Simulation Practice",
      "provenance": []
    },
    "kernelspec": {
      "name": "python3",
      "display_name": "Python 3"
    },
    "language_info": {
      "name": "python"
    }
  },
  "cells": [
    {
      "cell_type": "code",
      "execution_count": null,
      "metadata": {
        "id": "VwqPg-fDOMAe"
      },
      "outputs": [],
      "source": [
        "import pandas as pd\n",
        "import numpy as np\n",
        "import seaborn as sns"
      ]
    },
    {
      "cell_type": "code",
      "source": [
        "sns.set_style('whitegrid')"
      ],
      "metadata": {
        "id": "CKJ_C1eiI-oU"
      },
      "execution_count": null,
      "outputs": []
    },
    {
      "cell_type": "code",
      "source": [
        "avg = 1\n",
        "std_dev = 0.1\n",
        "num_reps = 500\n",
        "num_simulation = 1000"
      ],
      "metadata": {
        "id": "xC1Tev3dJJ5z"
      },
      "execution_count": null,
      "outputs": []
    },
    {
      "cell_type": "code",
      "source": [
        "pct_to_target = np.random.normal(avg,std_dev,num_reps).round(2)"
      ],
      "metadata": {
        "id": "aSnFBROOJWOV"
      },
      "execution_count": null,
      "outputs": []
    },
    {
      "cell_type": "code",
      "source": [
        "pct_to_target[0:10]"
      ],
      "metadata": {
        "colab": {
          "base_uri": "https://localhost:8080/"
        },
        "id": "E7lrV1v2JkEG",
        "outputId": "784bcd89-477b-4a5f-86ba-dda74738dd50"
      },
      "execution_count": null,
      "outputs": [
        {
          "output_type": "execute_result",
          "data": {
            "text/plain": [
              "array([0.94, 1.17, 0.94, 1.04, 1.13, 1.04, 1.  , 0.81, 0.85, 1.07])"
            ]
          },
          "metadata": {},
          "execution_count": 7
        }
      ]
    },
    {
      "cell_type": "code",
      "source": [
        "sales_target_values = [75000,100000,200000,300000,400000,500000]\n",
        "sales_target_pro = [.3,.3,.2,.1,.05,.05]\n",
        "sales_target = np.random.choice(sales_target_values,size=num_reps,p=sales_target_pro)"
      ],
      "metadata": {
        "id": "7nCibXuAJnve"
      },
      "execution_count": null,
      "outputs": []
    },
    {
      "cell_type": "code",
      "source": [
        "sns.histplot(sales_target)"
      ],
      "metadata": {
        "colab": {
          "base_uri": "https://localhost:8080/",
          "height": 282
        },
        "id": "7t6EPm1_NJBU",
        "outputId": "9243b610-9b61-463f-996e-a7fed0742648"
      },
      "execution_count": null,
      "outputs": [
        {
          "output_type": "execute_result",
          "data": {
            "text/plain": [
              "<matplotlib.axes._subplots.AxesSubplot at 0x7f2913db2b90>"
            ]
          },
          "metadata": {},
          "execution_count": 16
        },
        {
          "output_type": "display_data",
          "data": {
            "image/png": "[encoded data removed]",
            "text/plain": [
              "<Figure size 432x288 with 1 Axes>"
            ]
          },
          "metadata": {}
        }
      ]
    },
    {
      "cell_type": "code",
      "source": [
        "df = pd.DataFrame(index = range(num_reps),data={'Pct_To_Target':pct_to_target,'Sales_Target':sales_target})\n",
        "df['Sales'] = df['Pct_To_Target'] * df['Sales_Target']"
      ],
      "metadata": {
        "id": "5e6wgQhsNlOb"
      },
      "execution_count": null,
      "outputs": []
    },
    {
      "cell_type": "code",
      "source": [
        "df.head()"
      ],
      "metadata": {
        "colab": {
          "base_uri": "https://localhost:8080/",
          "height": 206
        },
        "id": "6kz7GKSZO6-v",
        "outputId": "44b4a985-eb53-4979-b98c-64d98e2845bf"
      },
      "execution_count": null,
      "outputs": [
        {
          "output_type": "execute_result",
          "data": {
            "text/html": [
              "\n",
              "  <div id=\"df-dac23555-15bc-40e2-a415-438446d46965\">\n",
              "    <div class=\"colab-df-container\">\n",
              "      <div>\n",
              "<style scoped>\n",
              "    .dataframe tbody tr th:only-of-type {\n",
              "        vertical-align: middle;\n",
              "    }\n",
              "\n",
              "    .dataframe tbody tr th {\n",
              "        vertical-align: top;\n",
              "    }\n",
              "\n",
              "    .dataframe thead th {\n",
              "        text-align: right;\n",
              "    }\n",
              "</style>\n",
              "<table border=\"1\" class=\"dataframe\">\n",
              "  <thead>\n",
              "    <tr style=\"text-align: right;\">\n",
              "      <th></th>\n",
              "      <th>Pct_To_Target</th>\n",
              "      <th>Sales_Target</th>\n",
              "      <th>Sales</th>\n",
              "    </tr>\n",
              "  </thead>\n",
              "  <tbody>\n",
              "    <tr>\n",
              "      <th>0</th>\n",
              "      <td>0.96</td>\n",
              "      <td>100000</td>\n",
              "      <td>96000.0</td>\n",
              "    </tr>\n",
              "    <tr>\n",
              "      <th>1</th>\n",
              "      <td>1.20</td>\n",
              "      <td>75000</td>\n",
              "      <td>90000.0</td>\n",
              "    </tr>\n",
              "    <tr>\n",
              "      <th>2</th>\n",
              "      <td>0.90</td>\n",
              "      <td>75000</td>\n",
              "      <td>67500.0</td>\n",
              "    </tr>\n",
              "    <tr>\n",
              "      <th>3</th>\n",
              "      <td>1.09</td>\n",
              "      <td>75000</td>\n",
              "      <td>81750.0</td>\n",
              "    </tr>\n",
              "    <tr>\n",
              "      <th>4</th>\n",
              "      <td>0.92</td>\n",
              "      <td>500000</td>\n",
              "      <td>460000.0</td>\n",
              "    </tr>\n",
              "  </tbody>\n",
              "</table>\n",
              "</div>\n",
              "      <button class=\"colab-df-convert\" onclick=\"convertToInteractive('df-dac23555-15bc-40e2-a415-438446d46965')\"\n",
              "              title=\"Convert this dataframe to an interactive table.\"\n",
              "              style=\"display:none;\">\n",
              "        \n",
              "  <svg xmlns=\"http://www.w3.org/2000/svg\" height=\"24px\"viewBox=\"0 0 24 24\"\n",
              "       width=\"24px\">\n",
              "    <path d=\"M0 0h24v24H0V0z\" fill=\"none\"/>\n",
              "    <path d=\"M18.56 5.44l.94 2.06.94-2.06 2.06-.94-2.06-.94-.94-2.06-.94 2.06-2.06.94zm-11 1L8.5 8.5l.94-2.06 2.06-.94-2.06-.94L8.5 2.5l-.94 2.06-2.06.94zm10 10l.94 2.06.94-2.06 2.06-.94-2.06-.94-.94-2.06-.94 2.06-2.06.94z\"/><path d=\"M17.41 7.96l-1.37-1.37c-.4-.4-.92-.59-1.43-.59-.52 0-1.04.2-1.43.59L10.3 9.45l-7.72 7.72c-.78.78-.78 2.05 0 2.83L4 21.41c.39.39.9.59 1.41.59.51 0 1.02-.2 1.41-.59l7.78-7.78 2.81-2.81c.8-.78.8-2.07 0-2.86zM5.41 20L4 18.59l7.72-7.72 1.47 1.35L5.41 20z\"/>\n",
              "  </svg>\n",
              "      </button>\n",
              "      \n",
              "  <style>\n",
              "    .colab-df-container {\n",
              "      display:flex;\n",
              "      flex-wrap:wrap;\n",
              "      gap: 12px;\n",
              "    }\n",
              "\n",
              "    .colab-df-convert {\n",
              "      background-color: #E8F0FE;\n",
              "      border: none;\n",
              "      border-radius: 50%;\n",
              "      cursor: pointer;\n",
              "      display: none;\n",
              "      fill: #1967D2;\n",
              "      height: 32px;\n",
              "      padding: 0 0 0 0;\n",
              "      width: 32px;\n",
              "    }\n",
              "\n",
              "    .colab-df-convert:hover {\n",
              "      background-color: #E2EBFA;\n",
              "      box-shadow: 0px 1px 2px rgba(60, 64, 67, 0.3), 0px 1px 3px 1px rgba(60, 64, 67, 0.15);\n",
              "      fill: #174EA6;\n",
              "    }\n",
              "\n",
              "    [theme=dark] .colab-df-convert {\n",
              "      background-color: #3B4455;\n",
              "      fill: #D2E3FC;\n",
              "    }\n",
              "\n",
              "    [theme=dark] .colab-df-convert:hover {\n",
              "      background-color: #434B5C;\n",
              "      box-shadow: 0px 1px 3px 1px rgba(0, 0, 0, 0.15);\n",
              "      filter: drop-shadow(0px 1px 2px rgba(0, 0, 0, 0.3));\n",
              "      fill: #FFFFFF;\n",
              "    }\n",
              "  </style>\n",
              "\n",
              "      <script>\n",
              "        const buttonEl =\n",
              "          document.querySelector('#df-dac23555-15bc-40e2-a415-438446d46965 button.colab-df-convert');\n",
              "        buttonEl.style.display =\n",
              "          google.colab.kernel.accessAllowed ? 'block' : 'none';\n",
              "\n",
              "        async function convertToInteractive(key) {\n",
              "          const element = document.querySelector('#df-dac23555-15bc-40e2-a415-438446d46965');\n",
              "          const dataTable =\n",
              "            await google.colab.kernel.invokeFunction('convertToInteractive',\n",
              "                                                     [key], {});\n",
              "          if (!dataTable) return;\n",
              "\n",
              "          const docLinkHtml = 'Like what you see? Visit the ' +\n",
              "            '<a target=\"_blank\" href=https://colab.research.google.com/notebooks/data_table.ipynb>data table notebook</a>'\n",
              "            + ' to learn more about interactive tables.';\n",
              "          element.innerHTML = '';\n",
              "          dataTable['output_type'] = 'display_data';\n",
              "          await google.colab.output.renderOutput(dataTable, element);\n",
              "          const docLink = document.createElement('div');\n",
              "          docLink.innerHTML = docLinkHtml;\n",
              "          element.appendChild(docLink);\n",
              "        }\n",
              "      </script>\n",
              "    </div>\n",
              "  </div>\n",
              "  "
            ],
            "text/plain": [
              "   Pct_To_Target  Sales_Target     Sales\n",
              "0           0.96        100000   96000.0\n",
              "1           1.20         75000   90000.0\n",
              "2           0.90         75000   67500.0\n",
              "3           1.09         75000   81750.0\n",
              "4           0.92        500000  460000.0"
            ]
          },
          "metadata": {},
          "execution_count": 21
        }
      ]
    },
    {
      "cell_type": "code",
      "source": [
        "def calc_commission_rate(x):\n",
        "  if x<=.9:\n",
        "    return .02\n",
        "  if x<=.99:\n",
        "    return .03\n",
        "  else:\n",
        "    return .04"
      ],
      "metadata": {
        "id": "YMVC7yWNO8bg"
      },
      "execution_count": null,
      "outputs": []
    },
    {
      "cell_type": "code",
      "source": [
        "df['Commission_Rate'] = df['Pct_To_Target'].apply(calc_commission_rate)\n",
        "df['Commission_Amount'] = df['Commission_Rate'] * df['Sales']"
      ],
      "metadata": {
        "id": "cWS5ROHrPdxh"
      },
      "execution_count": null,
      "outputs": []
    },
    {
      "cell_type": "code",
      "source": [
        "df.head()"
      ],
      "metadata": {
        "colab": {
          "base_uri": "https://localhost:8080/",
          "height": 206
        },
        "id": "eId-dzk6PhjQ",
        "outputId": "df78d4f9-c366-493a-ac67-362bb9efad22"
      },
      "execution_count": null,
      "outputs": [
        {
          "output_type": "execute_result",
          "data": {
            "text/html": [
              "\n",
              "  <div id=\"df-cd65bd18-3726-415e-ac92-d301be617b69\">\n",
              "    <div class=\"colab-df-container\">\n",
              "      <div>\n",
              "<style scoped>\n",
              "    .dataframe tbody tr th:only-of-type {\n",
              "        vertical-align: middle;\n",
              "    }\n",
              "\n",
              "    .dataframe tbody tr th {\n",
              "        vertical-align: top;\n",
              "    }\n",
              "\n",
              "    .dataframe thead th {\n",
              "        text-align: right;\n",
              "    }\n",
              "</style>\n",
              "<table border=\"1\" class=\"dataframe\">\n",
              "  <thead>\n",
              "    <tr style=\"text-align: right;\">\n",
              "      <th></th>\n",
              "      <th>Pct_To_Target</th>\n",
              "      <th>Sales_Target</th>\n",
              "      <th>Sales</th>\n",
              "      <th>Commission_Rate</th>\n",
              "      <th>Commission_Amount</th>\n",
              "    </tr>\n",
              "  </thead>\n",
              "  <tbody>\n",
              "    <tr>\n",
              "      <th>0</th>\n",
              "      <td>0.96</td>\n",
              "      <td>100000</td>\n",
              "      <td>96000.0</td>\n",
              "      <td>0.03</td>\n",
              "      <td>2880.0</td>\n",
              "    </tr>\n",
              "    <tr>\n",
              "      <th>1</th>\n",
              "      <td>1.20</td>\n",
              "      <td>75000</td>\n",
              "      <td>90000.0</td>\n",
              "      <td>0.04</td>\n",
              "      <td>3600.0</td>\n",
              "    </tr>\n",
              "    <tr>\n",
              "      <th>2</th>\n",
              "      <td>0.90</td>\n",
              "      <td>75000</td>\n",
              "      <td>67500.0</td>\n",
              "      <td>0.02</td>\n",
              "      <td>1350.0</td>\n",
              "    </tr>\n",
              "    <tr>\n",
              "      <th>3</th>\n",
              "      <td>1.09</td>\n",
              "      <td>75000</td>\n",
              "      <td>81750.0</td>\n",
              "      <td>0.04</td>\n",
              "      <td>3270.0</td>\n",
              "    </tr>\n",
              "    <tr>\n",
              "      <th>4</th>\n",
              "      <td>0.92</td>\n",
              "      <td>500000</td>\n",
              "      <td>460000.0</td>\n",
              "      <td>0.03</td>\n",
              "      <td>13800.0</td>\n",
              "    </tr>\n",
              "  </tbody>\n",
              "</table>\n",
              "</div>\n",
              "      <button class=\"colab-df-convert\" onclick=\"convertToInteractive('df-cd65bd18-3726-415e-ac92-d301be617b69')\"\n",
              "              title=\"Convert this dataframe to an interactive table.\"\n",
              "              style=\"display:none;\">\n",
              "        \n",
              "  <svg xmlns=\"http://www.w3.org/2000/svg\" height=\"24px\"viewBox=\"0 0 24 24\"\n",
              "       width=\"24px\">\n",
              "    <path d=\"M0 0h24v24H0V0z\" fill=\"none\"/>\n",
              "    <path d=\"M18.56 5.44l.94 2.06.94-2.06 2.06-.94-2.06-.94-.94-2.06-.94 2.06-2.06.94zm-11 1L8.5 8.5l.94-2.06 2.06-.94-2.06-.94L8.5 2.5l-.94 2.06-2.06.94zm10 10l.94 2.06.94-2.06 2.06-.94-2.06-.94-.94-2.06-.94 2.06-2.06.94z\"/><path d=\"M17.41 7.96l-1.37-1.37c-.4-.4-.92-.59-1.43-.59-.52 0-1.04.2-1.43.59L10.3 9.45l-7.72 7.72c-.78.78-.78 2.05 0 2.83L4 21.41c.39.39.9.59 1.41.59.51 0 1.02-.2 1.41-.59l7.78-7.78 2.81-2.81c.8-.78.8-2.07 0-2.86zM5.41 20L4 18.59l7.72-7.72 1.47 1.35L5.41 20z\"/>\n",
              "  </svg>\n",
              "      </button>\n",
              "      \n",
              "  <style>\n",
              "    .colab-df-container {\n",
              "      display:flex;\n",
              "      flex-wrap:wrap;\n",
              "      gap: 12px;\n",
              "    }\n",
              "\n",
              "    .colab-df-convert {\n",
              "      background-color: #E8F0FE;\n",
              "      border: none;\n",
              "      border-radius: 50%;\n",
              "      cursor: pointer;\n",
              "      display: none;\n",
              "      fill: #1967D2;\n",
              "      height: 32px;\n",
              "      padding: 0 0 0 0;\n",
              "      width: 32px;\n",
              "    }\n",
              "\n",
              "    .colab-df-convert:hover {\n",
              "      background-color: #E2EBFA;\n",
              "      box-shadow: 0px 1px 2px rgba(60, 64, 67, 0.3), 0px 1px 3px 1px rgba(60, 64, 67, 0.15);\n",
              "      fill: #174EA6;\n",
              "    }\n",
              "\n",
              "    [theme=dark] .colab-df-convert {\n",
              "      background-color: #3B4455;\n",
              "      fill: #D2E3FC;\n",
              "    }\n",
              "\n",
              "    [theme=dark] .colab-df-convert:hover {\n",
              "      background-color: #434B5C;\n",
              "      box-shadow: 0px 1px 3px 1px rgba(0, 0, 0, 0.15);\n",
              "      filter: drop-shadow(0px 1px 2px rgba(0, 0, 0, 0.3));\n",
              "      fill: #FFFFFF;\n",
              "    }\n",
              "  </style>\n",
              "\n",
              "      <script>\n",
              "        const buttonEl =\n",
              "          document.querySelector('#df-cd65bd18-3726-415e-ac92-d301be617b69 button.colab-df-convert');\n",
              "        buttonEl.style.display =\n",
              "          google.colab.kernel.accessAllowed ? 'block' : 'none';\n",
              "\n",
              "        async function convertToInteractive(key) {\n",
              "          const element = document.querySelector('#df-cd65bd18-3726-415e-ac92-d301be617b69');\n",
              "          const dataTable =\n",
              "            await google.colab.kernel.invokeFunction('convertToInteractive',\n",
              "                                                     [key], {});\n",
              "          if (!dataTable) return;\n",
              "\n",
              "          const docLinkHtml = 'Like what you see? Visit the ' +\n",
              "            '<a target=\"_blank\" href=https://colab.research.google.com/notebooks/data_table.ipynb>data table notebook</a>'\n",
              "            + ' to learn more about interactive tables.';\n",
              "          element.innerHTML = '';\n",
              "          dataTable['output_type'] = 'display_data';\n",
              "          await google.colab.output.renderOutput(dataTable, element);\n",
              "          const docLink = document.createElement('div');\n",
              "          docLink.innerHTML = docLinkHtml;\n",
              "          element.appendChild(docLink);\n",
              "        }\n",
              "      </script>\n",
              "    </div>\n",
              "  </div>\n",
              "  "
            ],
            "text/plain": [
              "   Pct_To_Target  Sales_Target     Sales  Commission_Rate  Commission_Amount\n",
              "0           0.96        100000   96000.0             0.03             2880.0\n",
              "1           1.20         75000   90000.0             0.04             3600.0\n",
              "2           0.90         75000   67500.0             0.02             1350.0\n",
              "3           1.09         75000   81750.0             0.04             3270.0\n",
              "4           0.92        500000  460000.0             0.03            13800.0"
            ]
          },
          "metadata": {},
          "execution_count": 25
        }
      ]
    },
    {
      "cell_type": "code",
      "source": [
        "# Define a list to keep all the results from each simulationtha\n",
        "all_states = []\n",
        "\n",
        "# Loop through many simulations\n",
        "for i in range(num_simulation):\n",
        "  # choose random inputs for the sales targets and percent to target\n",
        "  sales_target = np.random.choice(sales_target_values,size=num_reps,p=sales_target_pro)\n",
        "  pct_to_target = np.random.normal(avg,std_dev,num_reps).round(2)\n",
        "\n",
        "  # Build the dataframe based on the inputs and number of reps\n",
        "  df = pd.DataFrame(index = range(num_reps),data={'Pct_To_Target':pct_to_target, 'Sales_Target': sales_target})\n",
        "  \n",
        "  # Back into the sales number using the percent to target rate\n",
        "  df['Sales'] = df['Pct_To_Target'] * df['Sales_Target']\n",
        "\n",
        "  # Determine the commissions rate and calculate it\n",
        "  df['Commission_Rate'] = df['Pct_To_Target'].apply(calc_commission_rate)\n",
        "  df['Commission_Amount'] = df['Commission_Rate'] * df['Sales']\n",
        "\n",
        "  # We want to track sales,commission amounts and sales targets over all the simulations\n",
        "  all_states.append([df['Sales'].sum().round(0),df['Commission_Amount'].sum().round(0),df['Sales_Target'].sum().round(0)])"
      ],
      "metadata": {
        "id": "1sGAhPzBQEIK"
      },
      "execution_count": null,
      "outputs": []
    },
    {
      "cell_type": "code",
      "source": [
        "results_df = pd.DataFrame.from_records(all_states,columns=['Sales','Commission_Amount','Sales_Target'])"
      ],
      "metadata": {
        "id": "h71UtbNXRoSR"
      },
      "execution_count": null,
      "outputs": []
    },
    {
      "cell_type": "code",
      "source": [
        "results_df.describe().style.format('{:,}')"
      ],
      "metadata": {
        "colab": {
          "base_uri": "https://localhost:8080/",
          "height": 300
        },
        "id": "JKoSc9sOSMpI",
        "outputId": "0b8dee31-2e9d-42a6-c7d5-1ee0190b053f"
      },
      "execution_count": null,
      "outputs": [
        {
          "output_type": "execute_result",
          "data": {
            "text/html": [
              "<style  type=\"text/css\" >\n",
              "</style><table id=\"T_a64c5cbc_6992_11ec_9a3e_0242ac1c0002\" class=\"dataframe\"><thead>    <tr>        <th class=\"blank level0\" ></th>        <th class=\"col_heading level0 col0\" >Sales</th>        <th class=\"col_heading level0 col1\" >Commission_Amount</th>        <th class=\"col_heading level0 col2\" >Sales_Target</th>    </tr></thead><tbody>\n",
              "                <tr>\n",
              "                        <th id=\"T_a64c5cbc_6992_11ec_9a3e_0242ac1c0002level0_row0\" class=\"row_heading level0 row0\" >count</th>\n",
              "                        <td id=\"T_a64c5cbc_6992_11ec_9a3e_0242ac1c0002row0_col0\" class=\"data row0 col0\" >1,000.0</td>\n",
              "                        <td id=\"T_a64c5cbc_6992_11ec_9a3e_0242ac1c0002row0_col1\" class=\"data row0 col1\" >1,000.0</td>\n",
              "                        <td id=\"T_a64c5cbc_6992_11ec_9a3e_0242ac1c0002row0_col2\" class=\"data row0 col2\" >1,000.0</td>\n",
              "            </tr>\n",
              "            <tr>\n",
              "                        <th id=\"T_a64c5cbc_6992_11ec_9a3e_0242ac1c0002level0_row1\" class=\"row_heading level0 row1\" >mean</th>\n",
              "                        <td id=\"T_a64c5cbc_6992_11ec_9a3e_0242ac1c0002row1_col0\" class=\"data row1 col0\" >83,678,448.5</td>\n",
              "                        <td id=\"T_a64c5cbc_6992_11ec_9a3e_0242ac1c0002row1_col1\" class=\"data row1 col1\" >2,857,510.718</td>\n",
              "                        <td id=\"T_a64c5cbc_6992_11ec_9a3e_0242ac1c0002row1_col2\" class=\"data row1 col2\" >83,665,900.0</td>\n",
              "            </tr>\n",
              "            <tr>\n",
              "                        <th id=\"T_a64c5cbc_6992_11ec_9a3e_0242ac1c0002level0_row2\" class=\"row_heading level0 row2\" >std</th>\n",
              "                        <td id=\"T_a64c5cbc_6992_11ec_9a3e_0242ac1c0002row2_col0\" class=\"data row2 col0\" >2,623,981.466485433</td>\n",
              "                        <td id=\"T_a64c5cbc_6992_11ec_9a3e_0242ac1c0002row2_col1\" class=\"data row2 col1\" >100,030.65560838794</td>\n",
              "                        <td id=\"T_a64c5cbc_6992_11ec_9a3e_0242ac1c0002row2_col2\" class=\"data row2 col2\" >2,585,848.033054156</td>\n",
              "            </tr>\n",
              "            <tr>\n",
              "                        <th id=\"T_a64c5cbc_6992_11ec_9a3e_0242ac1c0002level0_row3\" class=\"row_heading level0 row3\" >min</th>\n",
              "                        <td id=\"T_a64c5cbc_6992_11ec_9a3e_0242ac1c0002row3_col0\" class=\"data row3 col0\" >76,780,000.0</td>\n",
              "                        <td id=\"T_a64c5cbc_6992_11ec_9a3e_0242ac1c0002row3_col1\" class=\"data row3 col1\" >2,585,402.0</td>\n",
              "                        <td id=\"T_a64c5cbc_6992_11ec_9a3e_0242ac1c0002row3_col2\" class=\"data row3 col2\" >76,800,000.0</td>\n",
              "            </tr>\n",
              "            <tr>\n",
              "                        <th id=\"T_a64c5cbc_6992_11ec_9a3e_0242ac1c0002level0_row4\" class=\"row_heading level0 row4\" >25%</th>\n",
              "                        <td id=\"T_a64c5cbc_6992_11ec_9a3e_0242ac1c0002row4_col0\" class=\"data row4 col0\" >81,901,375.0</td>\n",
              "                        <td id=\"T_a64c5cbc_6992_11ec_9a3e_0242ac1c0002row4_col1\" class=\"data row4 col1\" >2,791,228.25</td>\n",
              "                        <td id=\"T_a64c5cbc_6992_11ec_9a3e_0242ac1c0002row4_col2\" class=\"data row4 col2\" >81,893,750.0</td>\n",
              "            </tr>\n",
              "            <tr>\n",
              "                        <th id=\"T_a64c5cbc_6992_11ec_9a3e_0242ac1c0002level0_row5\" class=\"row_heading level0 row5\" >50%</th>\n",
              "                        <td id=\"T_a64c5cbc_6992_11ec_9a3e_0242ac1c0002row5_col0\" class=\"data row5 col0\" >83,657,500.0</td>\n",
              "                        <td id=\"T_a64c5cbc_6992_11ec_9a3e_0242ac1c0002row5_col1\" class=\"data row5 col1\" >2,851,718.0</td>\n",
              "                        <td id=\"T_a64c5cbc_6992_11ec_9a3e_0242ac1c0002row5_col2\" class=\"data row5 col2\" >83,700,000.0</td>\n",
              "            </tr>\n",
              "            <tr>\n",
              "                        <th id=\"T_a64c5cbc_6992_11ec_9a3e_0242ac1c0002level0_row6\" class=\"row_heading level0 row6\" >75%</th>\n",
              "                        <td id=\"T_a64c5cbc_6992_11ec_9a3e_0242ac1c0002row6_col0\" class=\"data row6 col0\" >85,554,500.0</td>\n",
              "                        <td id=\"T_a64c5cbc_6992_11ec_9a3e_0242ac1c0002row6_col1\" class=\"data row6 col1\" >2,926,311.25</td>\n",
              "                        <td id=\"T_a64c5cbc_6992_11ec_9a3e_0242ac1c0002row6_col2\" class=\"data row6 col2\" >85,400,000.0</td>\n",
              "            </tr>\n",
              "            <tr>\n",
              "                        <th id=\"T_a64c5cbc_6992_11ec_9a3e_0242ac1c0002level0_row7\" class=\"row_heading level0 row7\" >max</th>\n",
              "                        <td id=\"T_a64c5cbc_6992_11ec_9a3e_0242ac1c0002row7_col0\" class=\"data row7 col0\" >92,967,500.0</td>\n",
              "                        <td id=\"T_a64c5cbc_6992_11ec_9a3e_0242ac1c0002row7_col1\" class=\"data row7 col1\" >3,219,995.0</td>\n",
              "                        <td id=\"T_a64c5cbc_6992_11ec_9a3e_0242ac1c0002row7_col2\" class=\"data row7 col2\" >92,175,000.0</td>\n",
              "            </tr>\n",
              "    </tbody></table>"
            ],
            "text/plain": [
              "<pandas.io.formats.style.Styler at 0x7f291152be10>"
            ]
          },
          "metadata": {},
          "execution_count": 42
        }
      ]
    },
    {
      "cell_type": "code",
      "source": [
        "sns.histplot(results_df['Commission_Amount'])"
      ],
      "metadata": {
        "colab": {
          "base_uri": "https://localhost:8080/",
          "height": 297
        },
        "id": "rViHHKeHSPpY",
        "outputId": "268cad39-98d0-46fc-c37d-9bc3b94b5985"
      },
      "execution_count": null,
      "outputs": [
        {
          "output_type": "execute_result",
          "data": {
            "text/plain": [
              "<matplotlib.axes._subplots.AxesSubplot at 0x7f2911d78e50>"
            ]
          },
          "metadata": {},
          "execution_count": 43
        },
        {
          "output_type": "display_data",
          "data": {
            "image/png": "[encoded data removed]",
            "text/plain": [
              "<Figure size 432x288 with 1 Axes>"
            ]
          },
          "metadata": {}
        }
      ]
    },
    {
      "cell_type": "code",
      "source": [
        "results_df['Commission_Amount'].plot(kind = 'hist')"
      ],
      "metadata": {
        "colab": {
          "base_uri": "https://localhost:8080/",
          "height": 295
        },
        "id": "UXXce75gSn5f",
        "outputId": "43374074-7a90-43db-a40f-a0297c27d6fe"
      },
      "execution_count": null,
      "outputs": [
        {
          "output_type": "execute_result",
          "data": {
            "text/plain": [
              "<matplotlib.axes._subplots.AxesSubplot at 0x7f29113e0710>"
            ]
          },
          "metadata": {},
          "execution_count": 45
        },
        {
          "output_type": "display_data",
          "data": {
            "image/png": "[encoded data removed]",
            "text/plain": [
              "<Figure size 432x288 with 1 Axes>"
            ]
          },
          "metadata": {}
        }
      ]
    },
    {
      "cell_type": "code",
      "source": [
        "np.random.normal()"
      ],
      "metadata": {
        "id": "11aFmK-BU3o9"
      },
      "execution_count": null,
      "outputs": []
    },
    {
      "cell_type": "code",
      "source": [
        "np.take()"
      ],
      "metadata": {
        "id": "RGY0txJ4VNa8"
      },
      "execution_count": null,
      "outputs": []
    },
    {
      "cell_type": "code",
      "source": [
        "avg = 1\n",
        "std_dev = 0.1\n",
        "num_reps = 500\n",
        "num_simulation = 1000\n",
        "num_reps = 500\n",
        "num_simulations  =10000"
      ],
      "metadata": {
        "id": "gk6Ckm5CXoZB"
      },
      "execution_count": null,
      "outputs": []
    },
    {
      "cell_type": "code",
      "source": [
        "pct_to_target = np.random.normal(\n",
        "    avg,\n",
        "    std_dev,\n",
        "    size=(num_reps, num_simulations)\n",
        ")"
      ],
      "metadata": {
        "id": "SpyVEdQ_XvvS"
      },
      "execution_count": null,
      "outputs": []
    },
    {
      "cell_type": "code",
      "source": [
        "pct_to_target.shape"
      ],
      "metadata": {
        "colab": {
          "base_uri": "https://localhost:8080/"
        },
        "id": "DFimlCsYX0Aq",
        "outputId": "f6c108da-d89e-4c8b-9d80-ac548775053c"
      },
      "execution_count": null,
      "outputs": [
        {
          "output_type": "execute_result",
          "data": {
            "text/plain": [
              "(500, 10000)"
            ]
          },
          "metadata": {},
          "execution_count": 50
        }
      ]
    },
    {
      "cell_type": "code",
      "source": [
        " np.digitize(pct_to_target, bins=[.9, .99, 10])"
      ],
      "metadata": {
        "colab": {
          "base_uri": "https://localhost:8080/"
        },
        "id": "LhLNJU9aX18K",
        "outputId": "3171fdc0-b84d-4d80-b490-eae3186bf621"
      },
      "execution_count": null,
      "outputs": [
        {
          "output_type": "execute_result",
          "data": {
            "text/plain": [
              "array([[1, 1, 1, ..., 2, 1, 0],\n",
              "       [2, 1, 2, ..., 2, 2, 1],\n",
              "       [2, 2, 2, ..., 0, 1, 1],\n",
              "       ...,\n",
              "       [1, 1, 1, ..., 2, 2, 2],\n",
              "       [2, 1, 0, ..., 0, 2, 1],\n",
              "       [2, 2, 1, ..., 0, 2, 1]])"
            ]
          },
          "metadata": {},
          "execution_count": 51
        }
      ]
    },
    {
      "cell_type": "code",
      "source": [
        "commission_percentages= np.take(\n",
        "    np.array([0.02, 0.03, 0.04]),\n",
        "    np.digitize(pct_to_target, bins=[.9, .99, 10])\n",
        ")"
      ],
      "metadata": {
        "id": "aVkWXdloYFmN"
      },
      "execution_count": null,
      "outputs": []
    },
    {
      "cell_type": "code",
      "source": [
        "commission_percentages.shape"
      ],
      "metadata": {
        "colab": {
          "base_uri": "https://localhost:8080/"
        },
        "id": "5uHqY-5AYSL-",
        "outputId": "73f45f60-7dbb-4aee-ad7e-be48208fa1d6"
      },
      "execution_count": null,
      "outputs": [
        {
          "output_type": "execute_result",
          "data": {
            "text/plain": [
              "(500, 10000)"
            ]
          },
          "metadata": {},
          "execution_count": 59
        }
      ]
    },
    {
      "cell_type": "code",
      "source": [
        "sales_target = sales_target.reshape(500,1)"
      ],
      "metadata": {
        "id": "z547qYYOYdeu"
      },
      "execution_count": null,
      "outputs": []
    },
    {
      "cell_type": "code",
      "source": [
        "total_commissions = (commission_percentages * sales_target).sum(axis=0)"
      ],
      "metadata": {
        "id": "IiKIj99hYg5e"
      },
      "execution_count": null,
      "outputs": []
    },
    {
      "cell_type": "code",
      "source": [
        ""
      ],
      "metadata": {
        "id": "P0MpvPTEcfGX"
      },
      "execution_count": null,
      "outputs": []
    },
    {
      "cell_type": "code",
      "source": [
        "# Show how to create the dataframe\n",
        "df = pd.DataFrame(data={'Total_Commissions': total_commissions})\n",
        "df.head()"
      ],
      "metadata": {
        "colab": {
          "base_uri": "https://localhost:8080/",
          "height": 206
        },
        "id": "7u7MdfX_Y6JP",
        "outputId": "258e7548-8157-4606-bc8f-79a320c1e0f9"
      },
      "execution_count": null,
      "outputs": [
        {
          "output_type": "execute_result",
          "data": {
            "text/html": [
              "\n",
              "  <div id=\"df-0fdf33e7-a339-4f20-8716-5d3b430d30cc\">\n",
              "    <div class=\"colab-df-container\">\n",
              "      <div>\n",
              "<style scoped>\n",
              "    .dataframe tbody tr th:only-of-type {\n",
              "        vertical-align: middle;\n",
              "    }\n",
              "\n",
              "    .dataframe tbody tr th {\n",
              "        vertical-align: top;\n",
              "    }\n",
              "\n",
              "    .dataframe thead th {\n",
              "        text-align: right;\n",
              "    }\n",
              "</style>\n",
              "<table border=\"1\" class=\"dataframe\">\n",
              "  <thead>\n",
              "    <tr style=\"text-align: right;\">\n",
              "      <th></th>\n",
              "      <th>Total_Commissions</th>\n",
              "    </tr>\n",
              "  </thead>\n",
              "  <tbody>\n",
              "    <tr>\n",
              "      <th>0</th>\n",
              "      <td>2962750.0</td>\n",
              "    </tr>\n",
              "    <tr>\n",
              "      <th>1</th>\n",
              "      <td>3046000.0</td>\n",
              "    </tr>\n",
              "    <tr>\n",
              "      <th>2</th>\n",
              "      <td>2971250.0</td>\n",
              "    </tr>\n",
              "    <tr>\n",
              "      <th>3</th>\n",
              "      <td>3003500.0</td>\n",
              "    </tr>\n",
              "    <tr>\n",
              "      <th>4</th>\n",
              "      <td>3001250.0</td>\n",
              "    </tr>\n",
              "  </tbody>\n",
              "</table>\n",
              "</div>\n",
              "      <button class=\"colab-df-convert\" onclick=\"convertToInteractive('df-0fdf33e7-a339-4f20-8716-5d3b430d30cc')\"\n",
              "              title=\"Convert this dataframe to an interactive table.\"\n",
              "              style=\"display:none;\">\n",
              "        \n",
              "  <svg xmlns=\"http://www.w3.org/2000/svg\" height=\"24px\"viewBox=\"0 0 24 24\"\n",
              "       width=\"24px\">\n",
              "    <path d=\"M0 0h24v24H0V0z\" fill=\"none\"/>\n",
              "    <path d=\"M18.56 5.44l.94 2.06.94-2.06 2.06-.94-2.06-.94-.94-2.06-.94 2.06-2.06.94zm-11 1L8.5 8.5l.94-2.06 2.06-.94-2.06-.94L8.5 2.5l-.94 2.06-2.06.94zm10 10l.94 2.06.94-2.06 2.06-.94-2.06-.94-.94-2.06-.94 2.06-2.06.94z\"/><path d=\"M17.41 7.96l-1.37-1.37c-.4-.4-.92-.59-1.43-.59-.52 0-1.04.2-1.43.59L10.3 9.45l-7.72 7.72c-.78.78-.78 2.05 0 2.83L4 21.41c.39.39.9.59 1.41.59.51 0 1.02-.2 1.41-.59l7.78-7.78 2.81-2.81c.8-.78.8-2.07 0-2.86zM5.41 20L4 18.59l7.72-7.72 1.47 1.35L5.41 20z\"/>\n",
              "  </svg>\n",
              "      </button>\n",
              "      \n",
              "  <style>\n",
              "    .colab-df-container {\n",
              "      display:flex;\n",
              "      flex-wrap:wrap;\n",
              "      gap: 12px;\n",
              "    }\n",
              "\n",
              "    .colab-df-convert {\n",
              "      background-color: #E8F0FE;\n",
              "      border: none;\n",
              "      border-radius: 50%;\n",
              "      cursor: pointer;\n",
              "      display: none;\n",
              "      fill: #1967D2;\n",
              "      height: 32px;\n",
              "      padding: 0 0 0 0;\n",
              "      width: 32px;\n",
              "    }\n",
              "\n",
              "    .colab-df-convert:hover {\n",
              "      background-color: #E2EBFA;\n",
              "      box-shadow: 0px 1px 2px rgba(60, 64, 67, 0.3), 0px 1px 3px 1px rgba(60, 64, 67, 0.15);\n",
              "      fill: #174EA6;\n",
              "    }\n",
              "\n",
              "    [theme=dark] .colab-df-convert {\n",
              "      background-color: #3B4455;\n",
              "      fill: #D2E3FC;\n",
              "    }\n",
              "\n",
              "    [theme=dark] .colab-df-convert:hover {\n",
              "      background-color: #434B5C;\n",
              "      box-shadow: 0px 1px 3px 1px rgba(0, 0, 0, 0.15);\n",
              "      filter: drop-shadow(0px 1px 2px rgba(0, 0, 0, 0.3));\n",
              "      fill: #FFFFFF;\n",
              "    }\n",
              "  </style>\n",
              "\n",
              "      <script>\n",
              "        const buttonEl =\n",
              "          document.querySelector('#df-0fdf33e7-a339-4f20-8716-5d3b430d30cc button.colab-df-convert');\n",
              "        buttonEl.style.display =\n",
              "          google.colab.kernel.accessAllowed ? 'block' : 'none';\n",
              "\n",
              "        async function convertToInteractive(key) {\n",
              "          const element = document.querySelector('#df-0fdf33e7-a339-4f20-8716-5d3b430d30cc');\n",
              "          const dataTable =\n",
              "            await google.colab.kernel.invokeFunction('convertToInteractive',\n",
              "                                                     [key], {});\n",
              "          if (!dataTable) return;\n",
              "\n",
              "          const docLinkHtml = 'Like what you see? Visit the ' +\n",
              "            '<a target=\"_blank\" href=https://colab.research.google.com/notebooks/data_table.ipynb>data table notebook</a>'\n",
              "            + ' to learn more about interactive tables.';\n",
              "          element.innerHTML = '';\n",
              "          dataTable['output_type'] = 'display_data';\n",
              "          await google.colab.output.renderOutput(dataTable, element);\n",
              "          const docLink = document.createElement('div');\n",
              "          docLink.innerHTML = docLinkHtml;\n",
              "          element.appendChild(docLink);\n",
              "        }\n",
              "      </script>\n",
              "    </div>\n",
              "  </div>\n",
              "  "
            ],
            "text/plain": [
              "   Total_Commissions\n",
              "0          2962750.0\n",
              "1          3046000.0\n",
              "2          2971250.0\n",
              "3          3003500.0\n",
              "4          3001250.0"
            ]
          },
          "metadata": {},
          "execution_count": 70
        }
      ]
    },
    {
      "cell_type": "code",
      "source": [
        "df.plot(kind='hist', title='Commissions Distribution')"
      ],
      "metadata": {
        "colab": {
          "base_uri": "https://localhost:8080/",
          "height": 311
        },
        "id": "_MpxrFKLZc8Q",
        "outputId": "37b40845-12af-4e63-bd58-78ad837a6c91"
      },
      "execution_count": null,
      "outputs": [
        {
          "output_type": "execute_result",
          "data": {
            "text/plain": [
              "<matplotlib.axes._subplots.AxesSubplot at 0x7f2911d326d0>"
            ]
          },
          "metadata": {},
          "execution_count": 71
        },
        {
          "output_type": "display_data",
          "data": {
            "image/png": "[encoded data removed]",
            "text/plain": [
              "<Figure size 432x288 with 1 Axes>"
            ]
          },
          "metadata": {}
        }
      ]
    },
    {
      "cell_type": "code",
      "source": [
        ""
      ],
      "metadata": {
        "id": "LAb-W5VjZ0iJ"
      },
      "execution_count": null,
      "outputs": []
    }
  ]
}